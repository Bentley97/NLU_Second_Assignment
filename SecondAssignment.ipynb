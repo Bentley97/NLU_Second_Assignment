{
  "nbformat": 4,
  "nbformat_minor": 0,
  "metadata": {
    "colab": {
      "name": "SecondAssignment.ipynb",
      "provenance": [],
      "mount_file_id": "https://github.com/Bentley97/NLU_Second_Assignment/blob/main/SecondAssignment.ipynb",
      "authorship_tag": "ABX9TyPLhT97JC8MM54YsyL78DwY",
      "include_colab_link": true
    },
    "kernelspec": {
      "name": "python3",
      "display_name": "Python 3"
    },
    "language_info": {
      "name": "python"
    }
  },
  "cells": [
    {
      "cell_type": "markdown",
      "metadata": {
        "id": "view-in-github",
        "colab_type": "text"
      },
      "source": [
        "<a href=\"https://colab.research.google.com/github/Bentley97/NLU_Second_Assignment/blob/main/SecondAssignment.ipynb\" target=\"_parent\"><img src=\"https://colab.research.google.com/assets/colab-badge.svg\" alt=\"Open In Colab\"/></a>"
      ]
    },
    {
      "cell_type": "markdown",
      "metadata": {
        "id": "pB9HUrBUkLor"
      },
      "source": [
        "To clone the repository into the notebook and unzip the conll2003 archive"
      ]
    },
    {
      "cell_type": "code",
      "metadata": {
        "colab": {
          "base_uri": "https://localhost:8080/"
        },
        "id": "_rg1qsyNBj4O",
        "outputId": "7220214f-8957-403e-ab5a-444738a793fd"
      },
      "source": [
        "%%bash\n",
        "git clone https://github.com/Bentley97/NLU_Second_Assignment.git\n",
        "\n",
        "mkdir NLU_Second_Assignment/src/conll2003\n",
        "\n",
        "unzip -q NLU_Second_Assignment/src/conll2003.zip -d NLU_Second_Assignment/src/conll2003"
      ],
      "execution_count": 1,
      "outputs": [
        {
          "output_type": "stream",
          "text": [
            "Cloning into 'NLU_Second_Assignment'...\n"
          ],
          "name": "stderr"
        }
      ]
    },
    {
      "cell_type": "code",
      "metadata": {
        "id": "8Wktq4uLvf1C",
        "colab": {
          "base_uri": "https://localhost:8080/"
        },
        "outputId": "b7ad25c0-3276-4eb6-fb4b-10b3c2e74119"
      },
      "source": [
        "import os\n",
        "import sys\n",
        "sys.path.insert(0, os.path.abspath('NLU_Second_Assignment/src'))\n",
        "\n",
        "from conll import read_corpus_conll\n",
        "\n",
        "import spacy\n",
        "from spacy.tokens import Doc\n",
        "from sklearn.metrics import classification_report\n",
        "from sklearn.metrics import accuracy_score\n",
        "\n",
        "trn_url = \"NLU_Second_Assignment/src/conll2003/dev.txt\"\n",
        "trn_url = \"NLU_Second_Assignment/src/conll2003/train.txt\"\n",
        "tst_url = \"NLU_Second_Assignment/src/conll2003/test.txt\"\n",
        "\n",
        "raw_corpus = read_corpus_conll(tst_url)\n",
        "raw_corpus.remove(raw_corpus[0])  #remove -DOCSTAR-\n",
        "\n",
        "#getting hypotheses sentence by sentence\n",
        "nlp = spacy.load(\"en_core_web_sm\")\n",
        "\n",
        "hyps = []\n",
        "refs = []\n",
        "\n",
        "for sent in raw_corpus:\n",
        "  sentence = \" \".join([elem[0].split(\" \")[0] for elem in sent])\n",
        "  \n",
        "  refs.append([(e0,e3) for elem in sent for e0,e1,e2,e3 in [elem[0].split(\" \")]])\n",
        "  \n",
        "\n",
        "  doc = nlp(sentence)\n",
        "\n",
        "\n",
        "  ##### POST-PROCESS reassamble tokens\n",
        "  i = 0\n",
        "  j = -1\n",
        "  doc_length = len(doc)\n",
        "  while i != doc_length:\n",
        "    if doc[i].whitespace_ == \"\" and doc[i] != doc[-1]:\n",
        "      if j == -1:\n",
        "        j = i\n",
        "    elif j != -1:\n",
        "      with doc.retokenize() as retokenizer:\n",
        "        retokenizer.merge(doc[j:i+1])\n",
        "      doc_length -= i-j\n",
        "      i = j\n",
        "      j = -1\n",
        "\n",
        "    i += 1\n",
        "  #####\n",
        "\n",
        "  ##### build the list of tuple (text, label) converting labels in conll format\n",
        "  temp_hyp = []\n",
        "  for token in doc:\n",
        "    if token.ent_type_ == \"\":\n",
        "      temp_hyp.append((token.text, token.ent_iob_))\n",
        "    else:\n",
        "      if token.ent_type_ == \"PERSON\":\n",
        "        temp_hyp.append((token.text, token.ent_iob_+\"-PER\"))\n",
        "      elif token.ent_type_ == \"ORG\":\n",
        "        temp_hyp.append((token.text, token.ent_iob_+\"-ORG\"))\n",
        "      elif token.ent_type_ == \"LOC\" or token.ent_type_ == \"GPE\" or token.ent_type_ == \"FAC\":\n",
        "        temp_hyp.append((token.text, token.ent_iob_+\"-LOC\"))\n",
        "      else:\n",
        "        temp_hyp.append((token.text, token.ent_iob_+\"-MISC\")) #includes also numbers (CARDINAL,DATE,MONEY,ORDINAL,PERCENT,QUANTITY,TIME)\n",
        "  \n",
        "  hyps.append(temp_hyp)\n",
        "  #####\n",
        "  \n",
        " \n",
        "##### adapt hypoteses and references to sklear input format\n",
        "hyps_for_sklearn = [tup[1] for sent in hyps for tup in sent ]\n",
        "refs_for_sklearn = [tup[1] for sent in refs for tup in sent ]\n",
        "\n",
        "labels = sorted(list(set(refs_for_sklearn)))\n",
        "\n",
        "### total accuracy is labeld as accuracy\n",
        "print(classification_report(refs_for_sklearn, hyps_for_sklearn, labels=labels, digits=3))\n",
        "\n",
        "print(\"Total accuracy: \",accuracy_score(refs_for_sklearn,hyps_for_sklearn))\n"
      ],
      "execution_count": 36,
      "outputs": [
        {
          "output_type": "stream",
          "text": [
            "              precision    recall  f1-score   support\n",
            "\n",
            "       B-LOC      0.786     0.726     0.755      1668\n",
            "      B-MISC      0.091     0.581     0.157       702\n",
            "       B-ORG      0.523     0.337     0.410      1661\n",
            "       B-PER      0.780     0.623     0.693      1617\n",
            "       I-LOC      0.537     0.591     0.563       257\n",
            "      I-MISC      0.055     0.426     0.097       216\n",
            "       I-ORG      0.458     0.550     0.499       835\n",
            "       I-PER      0.736     0.776     0.755      1156\n",
            "           O      0.950     0.840     0.892     38553\n",
            "\n",
            "    accuracy                          0.797     46665\n",
            "   macro avg      0.546     0.606     0.536     46665\n",
            "weighted avg      0.890     0.797     0.836     46665\n",
            "\n",
            "Total accuracy:  0.7966998821386478\n"
          ],
          "name": "stdout"
        }
      ]
    },
    {
      "cell_type": "markdown",
      "metadata": {
        "id": "Dqy3VmDnH3Wi"
      },
      "source": [
        "**EVALUATE FUNCTION**"
      ]
    },
    {
      "cell_type": "code",
      "metadata": {
        "colab": {
          "base_uri": "https://localhost:8080/",
          "height": 244
        },
        "id": "FyQKvkDTCOFw",
        "outputId": "de1cd9c9-a0c2-43b5-ddfd-f137d6b1ec9b"
      },
      "source": [
        "from conll import evaluate\n",
        "import pandas as pd\n",
        "\n",
        "results = evaluate(refs, hyps)\n",
        "\n",
        "pd_tbl = pd.DataFrame().from_dict(results, orient='index')\n",
        "pd_tbl.round(decimals=3)"
      ],
      "execution_count": null,
      "outputs": [
        {
          "output_type": "stream",
          "text": [
            "{'ORG': {'p': 0.7948350071736011, 'r': 0.39571428571428574, 'f': 0.5283738674296614, 's': 1400}, 'PER': {'p': 0.6912751677852349, 'r': 0.2802721088435374, 'f': 0.398838334946757, 's': 735}, 'LOC': {'p': 0.0297753899928798, 'r': 0.8487084870848709, 'f': 0.0575323619535989, 's': 1084}, 'MISC': {'p': 0.5702479338842975, 'r': 0.20294117647058824, 'f': 0.299349240780911, 's': 340}, 'total': {'p': 0.05463234834759793, 'r': 0.4914301770160157, 'f': 0.09833300536924071, 's': 3559}}\n"
          ],
          "name": "stdout"
        },
        {
          "output_type": "execute_result",
          "data": {
            "text/html": [
              "<div>\n",
              "<style scoped>\n",
              "    .dataframe tbody tr th:only-of-type {\n",
              "        vertical-align: middle;\n",
              "    }\n",
              "\n",
              "    .dataframe tbody tr th {\n",
              "        vertical-align: top;\n",
              "    }\n",
              "\n",
              "    .dataframe thead th {\n",
              "        text-align: right;\n",
              "    }\n",
              "</style>\n",
              "<table border=\"1\" class=\"dataframe\">\n",
              "  <thead>\n",
              "    <tr style=\"text-align: right;\">\n",
              "      <th></th>\n",
              "      <th>p</th>\n",
              "      <th>r</th>\n",
              "      <th>f</th>\n",
              "      <th>s</th>\n",
              "    </tr>\n",
              "  </thead>\n",
              "  <tbody>\n",
              "    <tr>\n",
              "      <th>ORG</th>\n",
              "      <td>0.795</td>\n",
              "      <td>0.396</td>\n",
              "      <td>0.528</td>\n",
              "      <td>1400</td>\n",
              "    </tr>\n",
              "    <tr>\n",
              "      <th>PER</th>\n",
              "      <td>0.691</td>\n",
              "      <td>0.280</td>\n",
              "      <td>0.399</td>\n",
              "      <td>735</td>\n",
              "    </tr>\n",
              "    <tr>\n",
              "      <th>LOC</th>\n",
              "      <td>0.030</td>\n",
              "      <td>0.849</td>\n",
              "      <td>0.058</td>\n",
              "      <td>1084</td>\n",
              "    </tr>\n",
              "    <tr>\n",
              "      <th>MISC</th>\n",
              "      <td>0.570</td>\n",
              "      <td>0.203</td>\n",
              "      <td>0.299</td>\n",
              "      <td>340</td>\n",
              "    </tr>\n",
              "    <tr>\n",
              "      <th>total</th>\n",
              "      <td>0.055</td>\n",
              "      <td>0.491</td>\n",
              "      <td>0.098</td>\n",
              "      <td>3559</td>\n",
              "    </tr>\n",
              "  </tbody>\n",
              "</table>\n",
              "</div>"
            ],
            "text/plain": [
              "           p      r      f     s\n",
              "ORG    0.795  0.396  0.528  1400\n",
              "PER    0.691  0.280  0.399   735\n",
              "LOC    0.030  0.849  0.058  1084\n",
              "MISC   0.570  0.203  0.299   340\n",
              "total  0.055  0.491  0.098  3559"
            ]
          },
          "metadata": {
            "tags": []
          },
          "execution_count": 92
        }
      ]
    }
  ]
}